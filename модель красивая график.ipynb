{
 "cells": [
  {
   "cell_type": "code",
   "execution_count": 1,
   "metadata": {},
   "outputs": [],
   "source": [
    "from catboost import CatBoostRegressor, Pool\n",
    "import pandas as pd\n",
    "from sklearn.model_selection import StratifiedKFold\n",
    "import matplotlib.pyplot as plt\n",
    "from sklearn import metrics\n",
    "import numpy as np\n",
    "import pickle\n",
    "\n",
    "pd.options.display.max_columns = 200"
   ]
  },
  {
   "cell_type": "code",
   "execution_count": 2,
   "metadata": {},
   "outputs": [
    {
     "name": "stderr",
     "output_type": "stream",
     "text": [
      "/var/folders/bb/jzxxldrn52l0stzqmszjx6840000gn/T/ipykernel_40342/695145740.py:18: FutureWarning: Downcasting behavior in `replace` is deprecated and will be removed in a future version. To retain the old behavior, explicitly call `result.infer_objects(copy=False)`. To opt-in to the future behavior, set `pd.set_option('future.no_silent_downcasting', True)`\n",
      "  df['ТВ реклама, руб'] = df['ТВ реклама, руб'].replace(' ', 0).astype(float)\n"
     ]
    }
   ],
   "source": [
    "def read_file(path):\n",
    "    df = pd.read_excel(path)\n",
    "    df.columns = df.iloc[4]\n",
    "    df = df.iloc[5:][df.columns[:-1]]\n",
    "\n",
    "    columns = df.columns.tolist()\n",
    "\n",
    "    columns[3] = 'продажи'\n",
    "    columns[16] = 'заболеваемость'\n",
    "    columns[33] = 'ТВ реклама, руб'\n",
    "    columns[35] = 'интернет реклама, руб'\n",
    "    columns[51] = 'wordstat'\n",
    "\n",
    "    df.columns = columns\n",
    "    df.loc[df['неделя']==53, 'неделя'] = 52\n",
    "\n",
    "    df['Начало нед'] = pd.to_datetime(df['Начало нед'])\n",
    "    df['ТВ реклама, руб'] = df['ТВ реклама, руб'].replace(' ', 0).astype(float)\n",
    "\n",
    "    return df\n",
    "\n",
    "df = read_file('data/train.xlsx')\n",
    "df.loc[df['неделя']==53, 'неделя'] = 52"
   ]
  },
  {
   "cell_type": "code",
   "execution_count": 3,
   "metadata": {},
   "outputs": [],
   "source": [
    "def create_features(df):\n",
    "\n",
    "    week_info = df.groupby('неделя')['продажи'].agg(['sum', 'count'])\n",
    "    week_info.columns = [f'week_{x}' for x in week_info.columns]\n",
    "\n",
    "    df[f'target'] = df['продажи'] / df['продажи'].shift(1)\n",
    "\n",
    "    df['feature_illnesses'] = df['заболеваемость'].shift(1)\n",
    "\n",
    "    df['feature_last_5_wordstat'] = df['wordstat'].shift(1).rolling(window=5).mean()\n",
    "    df['feature_last_15_wordstat'] = df['wordstat'].shift(1).rolling(window=15).mean()\n",
    "\n",
    "    df['feature_last_5_adv'] = df['ТВ реклама, руб'].shift(1).rolling(window=5).mean()\n",
    "    df['feature_last_15_adv'] = df['ТВ реклама, руб'].shift(1).rolling(window=15).mean()\n",
    "\n",
    "    df['feature_last_5_internet_adv'] = df['интернет реклама, руб'].shift(1).rolling(window=5).mean()\n",
    "    df['feature_last_15_internet__adv'] = df['интернет реклама, руб'].shift(1).rolling(window=15).mean()\n",
    "\n",
    "    df['feature_week'] = df['неделя']\n",
    "\n",
    "    for i in range(1, 16, 4):\n",
    "        df[f'feature_month_diff_{i}'] = df['продажи'].shift(i) / df['продажи'].shift(i+4)\n",
    "\n",
    "    for i in [7, 13, 20]:\n",
    "        df[f'feature_big_diff_{i}_weeks'] = df['продажи'].shift(1) / df['продажи'].shift(i)\n",
    "\n",
    "    bad_cols = [col for col in df.columns if 'feature' not in col and 'target' not in col]\n",
    "    df.drop(bad_cols, axis=1, inplace=True)\n",
    "\n",
    "    feature_names = {'feature_illnesses': 'к-во больных', \n",
    " 'feature_last_5_wordstat': 'wordstat за 5 недель', \n",
    " 'feature_last_15_wordstat': 'wordstat за 15 недель', \n",
    " 'feature_last_5_adv': 'тв реклама за 5 недель', \n",
    " 'feature_last_15_adv': 'тв реклама за 15 недель', \n",
    " 'feature_last_5_internet_adv': 'интернет реклама за 5 недель', \n",
    " 'feature_last_15_internet__adv': 'интернет реклама за 15 недель', \n",
    " 'feature_week': 'номер недели', \n",
    " 'feature_month_diff_1': 'изменение продаж месяц назад', \n",
    " 'feature_month_diff_5': 'изменение продаж 2 месяца назад', \n",
    " 'feature_month_diff_9': 'изменение продаж 3 месяца назад', \n",
    " 'feature_month_diff_13': 'изменение продаж 4 месяца назад', \n",
    " 'feature_big_diff_7_weeks': 'изменение продаж за 2 месяца', \n",
    " 'feature_big_diff_13_weeks': 'изменение продаж за 3 месяца', \n",
    " 'feature_big_diff_20_weeks': 'изменение продаж за 4 месяца'}\n",
    "    \n",
    "    df.rename(feature_names, axis=1, inplace=True)\n",
    "    \n",
    "    return df\n",
    "\n",
    "df = create_features(df)"
   ]
  },
  {
   "cell_type": "code",
   "execution_count": 4,
   "metadata": {},
   "outputs": [],
   "source": [
    "df = df[df['target'].notna()].reset_index(drop=True)\n",
    "df = df.loc[20:].reset_index(drop=True)"
   ]
  },
  {
   "cell_type": "code",
   "execution_count": 6,
   "metadata": {},
   "outputs": [
    {
     "name": "stdout",
     "output_type": "stream",
     "text": [
      "0:\tlearn: -0.0165471\ttest: -0.0303781\tbest: -0.0303781 (0)\ttotal: 54.3ms\tremaining: 2m 42s\n",
      "1000:\tlearn: 0.2505797\ttest: 0.1152500\tbest: 0.1666043 (232)\ttotal: 156ms\tremaining: 312ms\n",
      "2000:\tlearn: 0.3026822\ttest: 0.0574917\tbest: 0.1666043 (232)\ttotal: 260ms\tremaining: 130ms\n",
      "2999:\tlearn: 0.3272152\ttest: 0.0295856\tbest: 0.1666043 (232)\ttotal: 363ms\tremaining: 0us\n",
      "\n",
      "bestTest = 0.1666043263\n",
      "bestIteration = 232\n",
      "\n",
      "Shrink model to first 233 iterations.\n",
      "R2: 0.1666\n",
      "MAPE: 0.05413\n",
      "\n"
     ]
    }
   ],
   "source": [
    "test_size = 0.4\n",
    "\n",
    "all_models = []\n",
    "all_metrics = []\n",
    "all_preds = []\n",
    "\n",
    "cur_df = df[(df[f'target'].notna())&(df['интернет реклама за 5 недель'] > 0)]\n",
    "\n",
    "train_data, valid_data = cur_df[:int(len(cur_df) * (1-test_size))], cur_df[int(len(cur_df) * (1-test_size)):]\n",
    "\n",
    "X_train, y_train = train_data.drop([x for x in train_data.columns if 'target' in x], axis=1), train_data[f'target']\n",
    "X_valid, y_valid = valid_data.drop([x for x in valid_data.columns if 'target' in x], axis=1), valid_data[f'target']\n",
    "\n",
    "\n",
    "model = CatBoostRegressor(\n",
    "    depth=2,\n",
    "    learning_rate=0.03,\n",
    "    iterations=3000,\n",
    "    loss_function='MAPE',\n",
    "    eval_metric='R2',\n",
    "    custom_metric=['R2'],\n",
    "\n",
    "    random_state=42,\n",
    "    thread_count=5\n",
    ")\n",
    "\n",
    "model.fit(X_train, y_train, eval_set=(X_valid, y_valid), verbose=1000)\n",
    "all_models.append(model)\n",
    "\n",
    "preds = model.predict(X_valid)\n",
    "all_preds.append(preds)\n",
    "\n",
    "r2_metric = metrics.r2_score(y_valid, preds)\n",
    "mape_metric = metrics.mean_absolute_percentage_error(y_valid, preds)\n",
    "all_metrics.append([r2_metric, mape_metric])\n",
    "\n",
    "print(f'R2: {round(r2_metric, 5)}')\n",
    "print(f'MAPE: {round(mape_metric, 5)}')\n",
    "\n",
    "print()"
   ]
  },
  {
   "cell_type": "code",
   "execution_count": 7,
   "metadata": {},
   "outputs": [],
   "source": [
    "model.save_model(\"info_model.cbm\")"
   ]
  },
  {
   "cell_type": "code",
   "execution_count": 8,
   "metadata": {},
   "outputs": [
    {
     "data": {
      "text/html": [
       "<div>\n",
       "<style scoped>\n",
       "    .dataframe tbody tr th:only-of-type {\n",
       "        vertical-align: middle;\n",
       "    }\n",
       "\n",
       "    .dataframe tbody tr th {\n",
       "        vertical-align: top;\n",
       "    }\n",
       "\n",
       "    .dataframe thead th {\n",
       "        text-align: right;\n",
       "    }\n",
       "</style>\n",
       "<table border=\"1\" class=\"dataframe\">\n",
       "  <thead>\n",
       "    <tr style=\"text-align: right;\">\n",
       "      <th></th>\n",
       "      <th>name</th>\n",
       "      <th>imp</th>\n",
       "    </tr>\n",
       "  </thead>\n",
       "  <tbody>\n",
       "    <tr>\n",
       "      <th>2</th>\n",
       "      <td>wordstat за 15 недель</td>\n",
       "      <td>19.391677</td>\n",
       "    </tr>\n",
       "    <tr>\n",
       "      <th>5</th>\n",
       "      <td>интернет реклама за 5 недель</td>\n",
       "      <td>18.364273</td>\n",
       "    </tr>\n",
       "    <tr>\n",
       "      <th>14</th>\n",
       "      <td>изменение продаж за 4 месяца</td>\n",
       "      <td>10.773646</td>\n",
       "    </tr>\n",
       "    <tr>\n",
       "      <th>9</th>\n",
       "      <td>изменение продаж 2 месяца назад</td>\n",
       "      <td>9.562077</td>\n",
       "    </tr>\n",
       "    <tr>\n",
       "      <th>8</th>\n",
       "      <td>изменение продаж месяц назад</td>\n",
       "      <td>8.896219</td>\n",
       "    </tr>\n",
       "    <tr>\n",
       "      <th>1</th>\n",
       "      <td>wordstat за 5 недель</td>\n",
       "      <td>7.937431</td>\n",
       "    </tr>\n",
       "    <tr>\n",
       "      <th>0</th>\n",
       "      <td>к-во больных</td>\n",
       "      <td>4.828750</td>\n",
       "    </tr>\n",
       "    <tr>\n",
       "      <th>7</th>\n",
       "      <td>номер недели</td>\n",
       "      <td>4.582916</td>\n",
       "    </tr>\n",
       "    <tr>\n",
       "      <th>12</th>\n",
       "      <td>изменение продаж за 2 месяца</td>\n",
       "      <td>3.141997</td>\n",
       "    </tr>\n",
       "    <tr>\n",
       "      <th>13</th>\n",
       "      <td>изменение продаж за 3 месяца</td>\n",
       "      <td>2.707544</td>\n",
       "    </tr>\n",
       "    <tr>\n",
       "      <th>6</th>\n",
       "      <td>интернет реклама за 15 недель</td>\n",
       "      <td>2.220542</td>\n",
       "    </tr>\n",
       "    <tr>\n",
       "      <th>4</th>\n",
       "      <td>тв реклама за 15 недель</td>\n",
       "      <td>2.097007</td>\n",
       "    </tr>\n",
       "    <tr>\n",
       "      <th>10</th>\n",
       "      <td>изменение продаж 3 месяца назад</td>\n",
       "      <td>2.017711</td>\n",
       "    </tr>\n",
       "    <tr>\n",
       "      <th>3</th>\n",
       "      <td>тв реклама за 5 недель</td>\n",
       "      <td>1.889121</td>\n",
       "    </tr>\n",
       "    <tr>\n",
       "      <th>11</th>\n",
       "      <td>изменение продаж 4 месяца назад</td>\n",
       "      <td>1.589088</td>\n",
       "    </tr>\n",
       "  </tbody>\n",
       "</table>\n",
       "</div>"
      ],
      "text/plain": [
       "                               name        imp\n",
       "2             wordstat за 15 недель  19.391677\n",
       "5      интернет реклама за 5 недель  18.364273\n",
       "14     изменение продаж за 4 месяца  10.773646\n",
       "9   изменение продаж 2 месяца назад   9.562077\n",
       "8      изменение продаж месяц назад   8.896219\n",
       "1              wordstat за 5 недель   7.937431\n",
       "0                      к-во больных   4.828750\n",
       "7                      номер недели   4.582916\n",
       "12     изменение продаж за 2 месяца   3.141997\n",
       "13     изменение продаж за 3 месяца   2.707544\n",
       "6     интернет реклама за 15 недель   2.220542\n",
       "4           тв реклама за 15 недель   2.097007\n",
       "10  изменение продаж 3 месяца назад   2.017711\n",
       "3            тв реклама за 5 недель   1.889121\n",
       "11  изменение продаж 4 месяца назад   1.589088"
      ]
     },
     "execution_count": 8,
     "metadata": {},
     "output_type": "execute_result"
    }
   ],
   "source": [
    "pd.DataFrame({\n",
    "    'name': X_train.columns,\n",
    "    'imp': model.get_feature_importance()\n",
    "}).sort_values('imp', ascending=False)"
   ]
  },
  {
   "cell_type": "code",
   "execution_count": 9,
   "metadata": {},
   "outputs": [
    {
     "name": "stdout",
     "output_type": "stream",
     "text": [
      "R2: 0.1666\n",
      "MAPE: 0.05413\n"
     ]
    }
   ],
   "source": [
    "print(f'R2: {round(np.mean([x[0] for x in all_metrics]), 5)}')\n",
    "print(f'MAPE: {round(np.mean([x[1] for x in all_metrics]), 5)}')"
   ]
  },
  {
   "cell_type": "markdown",
   "metadata": {},
   "source": [
    "R2: 0.42683\n",
    "MAPE: 0.10619"
   ]
  },
  {
   "cell_type": "markdown",
   "metadata": {},
   "source": [
    "-----"
   ]
  },
  {
   "cell_type": "code",
   "execution_count": 10,
   "metadata": {},
   "outputs": [],
   "source": [
    "from catboost import CatBoostRegressor, Pool\n",
    "import pandas as pd\n",
    "from sklearn.model_selection import StratifiedKFold\n",
    "import matplotlib.pyplot as plt\n",
    "from sklearn import metrics\n",
    "import numpy as np\n",
    "import pickle\n",
    "\n",
    "pd.options.display.max_columns = 200"
   ]
  },
  {
   "cell_type": "code",
   "execution_count": 11,
   "metadata": {},
   "outputs": [
    {
     "data": {
      "text/plain": [
       "<catboost.core.CatBoostRegressor at 0x17c91e1d0>"
      ]
     },
     "execution_count": 11,
     "metadata": {},
     "output_type": "execute_result"
    }
   ],
   "source": [
    "model = CatBoostRegressor()\n",
    "model.load_model('info_model.cbm')"
   ]
  },
  {
   "cell_type": "code",
   "execution_count": 12,
   "metadata": {},
   "outputs": [
    {
     "name": "stderr",
     "output_type": "stream",
     "text": [
      "/var/folders/bb/jzxxldrn52l0stzqmszjx6840000gn/T/ipykernel_40342/2888774503.py:16: FutureWarning: Downcasting behavior in `replace` is deprecated and will be removed in a future version. To retain the old behavior, explicitly call `result.infer_objects(copy=False)`. To opt-in to the future behavior, set `pd.set_option('future.no_silent_downcasting', True)`\n",
      "  df['ТВ реклама, руб'] = df['ТВ реклама, руб'].replace(' ', 0).astype(float)\n"
     ]
    }
   ],
   "source": [
    "def read_file(path):\n",
    "    df = pd.read_excel(path)\n",
    "    df.columns = df.iloc[4]\n",
    "    df = df.iloc[5:][df.columns[:-1]]\n",
    "\n",
    "    columns = df.columns.tolist()\n",
    "\n",
    "    columns[3] = 'продажи'\n",
    "    columns[16] = 'заболеваемость'\n",
    "    columns[33] = 'ТВ реклама, руб'\n",
    "    columns[35] = 'интернет реклама, руб'\n",
    "    columns[51] = 'wordstat'\n",
    "    \n",
    "    df.columns = columns\n",
    "    df.loc[df['неделя']==53, 'неделя'] = 52\n",
    "    df['ТВ реклама, руб'] = df['ТВ реклама, руб'].replace(' ', 0).astype(float)\n",
    "\n",
    "    return df\n",
    "\n",
    "df = read_file('data/train.xlsx')\n",
    "df.loc[df['неделя']==53, 'неделя'] = 52"
   ]
  },
  {
   "cell_type": "code",
   "execution_count": 13,
   "metadata": {},
   "outputs": [],
   "source": [
    "def create_features(df):\n",
    "\n",
    "    week_info = df.groupby('неделя')['продажи'].agg(['sum', 'count'])\n",
    "    week_info.columns = [f'week_{x}' for x in week_info.columns]\n",
    "\n",
    "    df[f'target'] = df['продажи'] / df['продажи'].shift(1)\n",
    "\n",
    "    df['feature_illnesses'] = df['заболеваемость'].shift(1)\n",
    "\n",
    "    df['feature_last_5_wordstat'] = df['wordstat'].shift(1).rolling(window=5).mean()\n",
    "    df['feature_last_15_wordstat'] = df['wordstat'].shift(1).rolling(window=15).mean()\n",
    "\n",
    "    df['feature_last_5_adv'] = df['ТВ реклама, руб'].shift(1).rolling(window=5).mean()\n",
    "    df['feature_last_15_adv'] = df['ТВ реклама, руб'].shift(1).rolling(window=15).mean()\n",
    "\n",
    "    df['feature_last_5_internet_adv'] = df['интернет реклама, руб'].shift(1).rolling(window=5).mean()\n",
    "    df['feature_last_15_internet__adv'] = df['интернет реклама, руб'].shift(1).rolling(window=15).mean()\n",
    "\n",
    "    df['feature_week'] = df['неделя']\n",
    "\n",
    "    for i in range(1, 16, 4):\n",
    "        df[f'feature_month_diff_{i}'] = df['продажи'].shift(i) / df['продажи'].shift(i+4)\n",
    "\n",
    "    for i in [7, 13, 20]:\n",
    "        df[f'feature_big_diff_{i}_weeks'] = df['продажи'].shift(1) / df['продажи'].shift(i)\n",
    "\n",
    "    bad_cols = [col for col in df.columns if 'feature' not in col and 'target' not in col]\n",
    "    df.drop(bad_cols, axis=1, inplace=True)\n",
    "\n",
    "    feature_names = {'feature_illnesses': 'к-во больных', \n",
    " 'feature_last_5_wordstat': 'wordstat за 5 недель', \n",
    " 'feature_last_15_wordstat': 'wordstat за 15 недель', \n",
    " 'feature_last_5_adv': 'тв реклама за 5 недель', \n",
    " 'feature_last_15_adv': 'тв реклама за 15 недель', \n",
    " 'feature_last_5_internet_adv': 'интернет реклама за 5 недель', \n",
    " 'feature_last_15_internet__adv': 'интернет реклама за 15 недель', \n",
    " 'feature_week': 'номер недели', \n",
    " 'feature_month_diff_1': 'изменение продаж месяц назад', \n",
    " 'feature_month_diff_5': 'изменение продаж 2 месяца назад', \n",
    " 'feature_month_diff_9': 'изменение продаж 3 месяца назад', \n",
    " 'feature_month_diff_13': 'изменение продаж 4 месяца назад', \n",
    " 'feature_big_diff_7_weeks': 'изменение продаж за 2 месяца', \n",
    " 'feature_big_diff_13_weeks': 'изменение продаж за 3 месяца', \n",
    " 'feature_big_diff_20_weeks': 'изменение продаж за 4 месяца'}\n",
    "    \n",
    "    df.rename(feature_names, axis=1, inplace=True)\n",
    "    \n",
    "    return df\n",
    "\n",
    "df = create_features(df)\n",
    "df = df.reset_index(drop=True)"
   ]
  },
  {
   "cell_type": "code",
   "execution_count": 14,
   "metadata": {},
   "outputs": [],
   "source": [
    "df = df[df['target'].notna()].dropna()"
   ]
  },
  {
   "cell_type": "code",
   "execution_count": 15,
   "metadata": {},
   "outputs": [
    {
     "data": {
      "text/plain": [
       "array([1.02594427, 1.02671828, 1.02269647, 1.00462712, 1.00676511,\n",
       "       1.00455851, 1.002644  , 1.01205664, 1.00754238, 1.0101105 ,\n",
       "       1.01250213, 1.01882529, 1.02682883, 1.02372159, 1.02675534,\n",
       "       1.03343361, 1.03661995, 1.0063366 , 0.97789853, 1.00470885,\n",
       "       1.00568259, 1.031695  , 1.03966278, 1.04740535, 1.05225327,\n",
       "       1.02644069, 1.01149522, 1.00412553, 0.99860107, 0.99537975,\n",
       "       0.99310063, 0.99274977, 1.00524531, 1.00551772, 1.03498634,\n",
       "       1.02521169, 1.02932401, 1.02153879, 0.97373162, 0.96878162,\n",
       "       0.98832103, 1.04313752, 1.03167284, 1.01096905, 0.87337585,\n",
       "       0.87074757, 0.86603803, 0.96868633, 0.97535719, 0.98528722,\n",
       "       0.9992825 , 0.9786123 , 0.97576812, 0.9759422 , 1.00381779,\n",
       "       1.00826757, 1.04799553, 1.016713  , 1.03409295, 1.03936388,\n",
       "       1.032134  , 1.03959841, 1.02503798, 1.02484092, 1.01520938,\n",
       "       1.01789751, 1.02131658, 1.05194639, 1.04733353, 1.00916092,\n",
       "       0.97438845, 0.99309048, 1.00368636, 0.99956416, 0.99168627,\n",
       "       0.98254265, 0.98288589, 1.00267116, 0.99091424, 0.99334572,\n",
       "       1.0139582 , 1.00344577, 0.9938991 , 0.98796655, 0.97816464,\n",
       "       0.98222255, 1.01485168, 1.01296846, 1.01995136, 1.01338184,\n",
       "       1.02066704, 1.01084361, 1.01121847, 1.0146012 , 1.01046872,\n",
       "       1.01956651, 0.99874158, 1.00626312, 1.01767967, 1.00788753,\n",
       "       1.00182543, 0.99497815, 0.98967932, 1.00040516, 1.02576805,\n",
       "       1.03225242, 1.03500061, 1.0259201 , 1.0235016 , 1.02353977,\n",
       "       1.02743524, 1.02366704, 0.9966384 , 1.00005604, 1.00500047,\n",
       "       1.01542147, 1.01900308, 0.99998879, 1.01590713, 1.02348909,\n",
       "       1.01576438, 0.99940042, 0.96613838, 0.98426177, 0.99953608,\n",
       "       1.00278791, 0.9829469 , 0.97653656, 0.97558065, 0.99834576,\n",
       "       1.02054742, 1.02550399, 1.01021366, 0.99717244, 0.98161102,\n",
       "       0.94229773, 0.92824059, 0.95695556, 1.03859433, 1.04348616,\n",
       "       1.03079644, 0.98600358, 0.87836021, 0.89448895, 0.93831403,\n",
       "       0.96487405, 0.97469654, 0.98366329, 0.9789745 , 0.99460695,\n",
       "       0.99602988, 0.99638078, 1.00587506, 1.01033566, 1.01974162,\n",
       "       1.02772747, 1.03037712, 1.02440707, 1.02356392, 1.01640971,\n",
       "       1.01383081, 1.01243158, 1.02012724, 1.01822751, 1.03760067,\n",
       "       1.02165778, 1.02364572, 1.02654052, 1.03020218, 1.00175675,\n",
       "       0.9982658 , 0.99744672, 1.00389206, 0.98373965, 0.96074722,\n",
       "       0.97058534, 0.97882063, 0.98703603, 0.98506064, 0.98725784,\n",
       "       0.98916567, 0.98952298, 0.98726732, 0.98122241, 0.97791708,\n",
       "       0.97382449, 0.96971865, 0.96236262, 0.96769589, 0.97122585,\n",
       "       0.98383992, 0.9986626 , 0.99643917, 1.02658825, 1.015473  ,\n",
       "       1.01033963, 1.01125816, 1.01769931, 1.01239002, 0.99754755,\n",
       "       0.99361055, 0.98939883, 1.00504218, 1.01407655, 1.02560035,\n",
       "       1.01711614, 1.01187859, 1.01354198, 1.02500375, 1.02430372,\n",
       "       1.02401044, 1.02181048, 1.01353259, 1.02005215, 1.0152404 ,\n",
       "       1.01970532, 1.01583581, 1.01654272, 1.01895205, 1.01843744,\n",
       "       1.00777902, 1.0078517 , 1.00943976, 1.0077739 ])"
      ]
     },
     "execution_count": 15,
     "metadata": {},
     "output_type": "execute_result"
    }
   ],
   "source": [
    "model.predict(df[model.feature_names_])"
   ]
  },
  {
   "cell_type": "code",
   "execution_count": null,
   "metadata": {},
   "outputs": [],
   "source": []
  }
 ],
 "metadata": {
  "kernelspec": {
   "display_name": "Python 3.10.14 ('hack')",
   "language": "python",
   "name": "python3"
  },
  "language_info": {
   "codemirror_mode": {
    "name": "ipython",
    "version": 3
   },
   "file_extension": ".py",
   "mimetype": "text/x-python",
   "name": "python",
   "nbconvert_exporter": "python",
   "pygments_lexer": "ipython3",
   "version": "3.10.14"
  },
  "vscode": {
   "interpreter": {
    "hash": "35aa056a0d733183b5bd8d327f52f56175055e8f961f7979703886f3fd42d32f"
   }
  }
 },
 "nbformat": 4,
 "nbformat_minor": 2
}
