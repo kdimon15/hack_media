{
 "cells": [
  {
   "cell_type": "code",
   "execution_count": 1,
   "metadata": {},
   "outputs": [],
   "source": [
    "from catboost import CatBoostRegressor, Pool\n",
    "import pandas as pd\n",
    "from sklearn.model_selection import StratifiedKFold\n",
    "import matplotlib.pyplot as plt\n",
    "from sklearn import metrics\n",
    "import numpy as np\n",
    "import pickle\n",
    "\n",
    "pd.options.display.max_columns = 200"
   ]
  },
  {
   "cell_type": "code",
   "execution_count": 2,
   "metadata": {},
   "outputs": [
    {
     "name": "stderr",
     "output_type": "stream",
     "text": [
      "/var/folders/bb/jzxxldrn52l0stzqmszjx6840000gn/T/ipykernel_39042/695145740.py:18: FutureWarning: Downcasting behavior in `replace` is deprecated and will be removed in a future version. To retain the old behavior, explicitly call `result.infer_objects(copy=False)`. To opt-in to the future behavior, set `pd.set_option('future.no_silent_downcasting', True)`\n",
      "  df['ТВ реклама, руб'] = df['ТВ реклама, руб'].replace(' ', 0).astype(float)\n"
     ]
    }
   ],
   "source": [
    "def read_file(path):\n",
    "    df = pd.read_excel(path)\n",
    "    df.columns = df.iloc[4]\n",
    "    df = df.iloc[5:][df.columns[:-1]]\n",
    "\n",
    "    columns = df.columns.tolist()\n",
    "\n",
    "    columns[3] = 'продажи'\n",
    "    columns[16] = 'заболеваемость'\n",
    "    columns[33] = 'ТВ реклама, руб'\n",
    "    columns[35] = 'интернет реклама, руб'\n",
    "    columns[51] = 'wordstat'\n",
    "\n",
    "    df.columns = columns\n",
    "    df.loc[df['неделя']==53, 'неделя'] = 52\n",
    "\n",
    "    df['Начало нед'] = pd.to_datetime(df['Начало нед'])\n",
    "    df['ТВ реклама, руб'] = df['ТВ реклама, руб'].replace(' ', 0).astype(float)\n",
    "\n",
    "    return df\n",
    "\n",
    "df = read_file('data/train.xlsx')\n",
    "df.loc[df['неделя']==53, 'неделя'] = 52"
   ]
  },
  {
   "cell_type": "code",
   "execution_count": 3,
   "metadata": {},
   "outputs": [],
   "source": [
    "def create_features(df):\n",
    "\n",
    "    week_info = df.groupby('неделя')['продажи'].agg(['sum', 'count'])\n",
    "    week_info.columns = [f'week_{x}' for x in week_info.columns]\n",
    "\n",
    "    df[f'target'] = df['продажи'] / df['продажи'].shift(1)\n",
    "\n",
    "    df['feature_illnesses'] = df['заболеваемость'].shift(1)\n",
    "\n",
    "    df['feature_last_5_wordstat'] = df['wordstat'].shift(1).rolling(window=5).mean()\n",
    "    df['feature_last_15_wordstat'] = df['wordstat'].shift(1).rolling(window=15).mean()\n",
    "\n",
    "    df['feature_last_5_adv'] = df['ТВ реклама, руб'].shift(1).rolling(window=5).mean()\n",
    "    df['feature_last_15_adv'] = df['ТВ реклама, руб'].shift(1).rolling(window=15).mean()\n",
    "\n",
    "    df['feature_last_5_internet_adv'] = df['интернет реклама, руб'].shift(1).rolling(window=5).mean()\n",
    "    df['feature_last_15_internet__adv'] = df['интернет реклама, руб'].shift(1).rolling(window=15).mean()\n",
    "\n",
    "    df['feature_week'] = df['неделя']\n",
    "\n",
    "    for i in range(1, 16, 4):\n",
    "        df[f'feature_month_diff_{i}'] = df['продажи'].shift(i) / df['продажи'].shift(i+4)\n",
    "\n",
    "    for i in [7, 13, 20]:\n",
    "        df[f'feature_big_diff_{i}_weeks'] = df['продажи'].shift(1) / df['продажи'].shift(i)\n",
    "\n",
    "    bad_cols = [col for col in df.columns if 'feature' not in col and 'target' not in col]\n",
    "    df.drop(bad_cols, axis=1, inplace=True)\n",
    "\n",
    "    feature_names = {'feature_illnesses': 'кол-во больных на последней неделе',\n",
    " 'feature_last_5_wordstat': 'среднее кол-во просмотров wordstat за 5 недель',\n",
    " 'feature_last_15_wordstat': 'среднее кол-во просмотров wordstat за 15 недель',\n",
    " 'feature_last_5_adv': 'средние затраты на тв рекламу последние 5 недель',\n",
    " 'feature_last_15_adv': 'средние затраты на тв рекламу последние 15 недель',\n",
    " 'feature_last_5_internet_adv': 'средние затраты на интернет рекламу последние 5 недель',\n",
    " 'feature_last_15_internet__adv': 'средние затраты на интернет рекламу последние 15 недель',\n",
    " 'feature_week': 'номер недели',\n",
    " 'feature_month_diff_1': 'изменение продаж месяц назад',\n",
    " 'feature_month_diff_5': 'изменение продаж 2 месяца назад',\n",
    " 'feature_month_diff_9': 'изменение продаж 3 месяца назад',\n",
    " 'feature_month_diff_13': 'изменение продаж 4 месяца назад',\n",
    " 'feature_big_diff_7_weeks': 'изменение продаж за последние 2 месяца',\n",
    " 'feature_big_diff_13_weeks': 'изменение продаж за последние 3 месяца',\n",
    " 'feature_big_diff_20_weeks': 'изменение продаж за последние 4 месяца'}\n",
    "    \n",
    "    df.rename(feature_names, axis=1, inplace=True)\n",
    "    \n",
    "    return df\n",
    "\n",
    "df = create_features(df)"
   ]
  },
  {
   "cell_type": "code",
   "execution_count": 4,
   "metadata": {},
   "outputs": [],
   "source": [
    "df = df[df['target'].notna()].reset_index(drop=True)\n",
    "df = df.loc[20:].reset_index(drop=True)"
   ]
  },
  {
   "cell_type": "code",
   "execution_count": 7,
   "metadata": {},
   "outputs": [
    {
     "name": "stdout",
     "output_type": "stream",
     "text": [
      "0:\tlearn: -0.0000360\ttest: 0.0015751\tbest: 0.0015751 (0)\ttotal: 55.5ms\tremaining: 2m 46s\n",
      "1000:\tlearn: 0.1967136\ttest: 0.1167971\tbest: 0.1570845 (147)\ttotal: 130ms\tremaining: 260ms\n",
      "2000:\tlearn: 0.2238778\ttest: 0.1066156\tbest: 0.1570845 (147)\ttotal: 206ms\tremaining: 103ms\n",
      "2999:\tlearn: 0.2301255\ttest: 0.1092143\tbest: 0.1570845 (147)\ttotal: 282ms\tremaining: 0us\n",
      "\n",
      "bestTest = 0.1570845081\n",
      "bestIteration = 147\n",
      "\n",
      "Shrink model to first 148 iterations.\n",
      "R2: 0.15708\n",
      "MAPE: 0.0688\n",
      "\n"
     ]
    }
   ],
   "source": [
    "test_size = 0.4\n",
    "\n",
    "all_models = []\n",
    "all_metrics = []\n",
    "all_preds = []\n",
    "\n",
    "cur_df = df[(df[f'target'].notna())&(df['средние затраты на тв рекламу последние 5 недель'] > 0)]\n",
    "\n",
    "train_data, valid_data = cur_df[:int(len(cur_df) * (1-test_size))], cur_df[int(len(cur_df) * (1-test_size)):]\n",
    "\n",
    "X_train, y_train = train_data.drop([x for x in train_data.columns if 'target' in x], axis=1), train_data[f'target']\n",
    "X_valid, y_valid = valid_data.drop([x for x in valid_data.columns if 'target' in x], axis=1), valid_data[f'target']\n",
    "\n",
    "\n",
    "model = CatBoostRegressor(\n",
    "    depth=2,\n",
    "    learning_rate=0.03,\n",
    "    iterations=3000,\n",
    "    loss_function='MAPE',\n",
    "    eval_metric='R2',\n",
    "    custom_metric=['R2'],\n",
    "\n",
    "    random_state=42,\n",
    "    thread_count=5\n",
    ")\n",
    "\n",
    "model.fit(X_train, y_train, eval_set=(X_valid, y_valid), verbose=1000)\n",
    "all_models.append(model)\n",
    "\n",
    "preds = model.predict(X_valid)\n",
    "all_preds.append(preds)\n",
    "\n",
    "r2_metric = metrics.r2_score(y_valid, preds)\n",
    "mape_metric = metrics.mean_absolute_percentage_error(y_valid, preds)\n",
    "all_metrics.append([r2_metric, mape_metric])\n",
    "\n",
    "print(f'R2: {round(r2_metric, 5)}')\n",
    "print(f'MAPE: {round(mape_metric, 5)}')\n",
    "\n",
    "print()"
   ]
  },
  {
   "cell_type": "code",
   "execution_count": 8,
   "metadata": {},
   "outputs": [],
   "source": [
    "model.save_model(\"info_model.cbm\")"
   ]
  },
  {
   "cell_type": "code",
   "execution_count": 9,
   "metadata": {},
   "outputs": [
    {
     "data": {
      "text/html": [
       "<div>\n",
       "<style scoped>\n",
       "    .dataframe tbody tr th:only-of-type {\n",
       "        vertical-align: middle;\n",
       "    }\n",
       "\n",
       "    .dataframe tbody tr th {\n",
       "        vertical-align: top;\n",
       "    }\n",
       "\n",
       "    .dataframe thead th {\n",
       "        text-align: right;\n",
       "    }\n",
       "</style>\n",
       "<table border=\"1\" class=\"dataframe\">\n",
       "  <thead>\n",
       "    <tr style=\"text-align: right;\">\n",
       "      <th></th>\n",
       "      <th>name</th>\n",
       "      <th>imp</th>\n",
       "    </tr>\n",
       "  </thead>\n",
       "  <tbody>\n",
       "    <tr>\n",
       "      <th>1</th>\n",
       "      <td>среднее кол-во просмотров wordstat за 5 недель</td>\n",
       "      <td>26.012261</td>\n",
       "    </tr>\n",
       "    <tr>\n",
       "      <th>2</th>\n",
       "      <td>среднее кол-во просмотров wordstat за 15 недель</td>\n",
       "      <td>13.925666</td>\n",
       "    </tr>\n",
       "    <tr>\n",
       "      <th>8</th>\n",
       "      <td>изменение продаж месяц назад</td>\n",
       "      <td>10.572021</td>\n",
       "    </tr>\n",
       "    <tr>\n",
       "      <th>12</th>\n",
       "      <td>изменение продаж за последние 2 месяца</td>\n",
       "      <td>10.478944</td>\n",
       "    </tr>\n",
       "    <tr>\n",
       "      <th>9</th>\n",
       "      <td>изменение продаж 2 месяца назад</td>\n",
       "      <td>9.351804</td>\n",
       "    </tr>\n",
       "    <tr>\n",
       "      <th>11</th>\n",
       "      <td>изменение продаж 4 месяца назад</td>\n",
       "      <td>6.341930</td>\n",
       "    </tr>\n",
       "    <tr>\n",
       "      <th>14</th>\n",
       "      <td>изменение продаж за последние 4 месяца</td>\n",
       "      <td>4.840989</td>\n",
       "    </tr>\n",
       "    <tr>\n",
       "      <th>10</th>\n",
       "      <td>изменение продаж 3 месяца назад</td>\n",
       "      <td>3.940789</td>\n",
       "    </tr>\n",
       "    <tr>\n",
       "      <th>7</th>\n",
       "      <td>номер недели</td>\n",
       "      <td>3.627323</td>\n",
       "    </tr>\n",
       "    <tr>\n",
       "      <th>0</th>\n",
       "      <td>кол-во больных на последней неделе</td>\n",
       "      <td>3.073558</td>\n",
       "    </tr>\n",
       "    <tr>\n",
       "      <th>3</th>\n",
       "      <td>средние затраты на тв рекламу последние 5 недель</td>\n",
       "      <td>2.984567</td>\n",
       "    </tr>\n",
       "    <tr>\n",
       "      <th>13</th>\n",
       "      <td>изменение продаж за последние 3 месяца</td>\n",
       "      <td>2.094516</td>\n",
       "    </tr>\n",
       "    <tr>\n",
       "      <th>5</th>\n",
       "      <td>средние затраты на интернет рекламу последние ...</td>\n",
       "      <td>1.458551</td>\n",
       "    </tr>\n",
       "    <tr>\n",
       "      <th>6</th>\n",
       "      <td>средние затраты на интернет рекламу последние ...</td>\n",
       "      <td>1.207827</td>\n",
       "    </tr>\n",
       "    <tr>\n",
       "      <th>4</th>\n",
       "      <td>средние затраты на тв рекламу последние 15 недель</td>\n",
       "      <td>0.089255</td>\n",
       "    </tr>\n",
       "  </tbody>\n",
       "</table>\n",
       "</div>"
      ],
      "text/plain": [
       "                                                 name        imp\n",
       "1      среднее кол-во просмотров wordstat за 5 недель  26.012261\n",
       "2     среднее кол-во просмотров wordstat за 15 недель  13.925666\n",
       "8                        изменение продаж месяц назад  10.572021\n",
       "12             изменение продаж за последние 2 месяца  10.478944\n",
       "9                     изменение продаж 2 месяца назад   9.351804\n",
       "11                    изменение продаж 4 месяца назад   6.341930\n",
       "14             изменение продаж за последние 4 месяца   4.840989\n",
       "10                    изменение продаж 3 месяца назад   3.940789\n",
       "7                                        номер недели   3.627323\n",
       "0                  кол-во больных на последней неделе   3.073558\n",
       "3    средние затраты на тв рекламу последние 5 недель   2.984567\n",
       "13             изменение продаж за последние 3 месяца   2.094516\n",
       "5   средние затраты на интернет рекламу последние ...   1.458551\n",
       "6   средние затраты на интернет рекламу последние ...   1.207827\n",
       "4   средние затраты на тв рекламу последние 15 недель   0.089255"
      ]
     },
     "execution_count": 9,
     "metadata": {},
     "output_type": "execute_result"
    }
   ],
   "source": [
    "pd.DataFrame({\n",
    "    'name': X_train.columns,\n",
    "    'imp': model.get_feature_importance()\n",
    "}).sort_values('imp', ascending=False)"
   ]
  },
  {
   "cell_type": "code",
   "execution_count": 10,
   "metadata": {},
   "outputs": [
    {
     "name": "stdout",
     "output_type": "stream",
     "text": [
      "R2: 0.15708\n",
      "MAPE: 0.0688\n"
     ]
    }
   ],
   "source": [
    "print(f'R2: {round(np.mean([x[0] for x in all_metrics]), 5)}')\n",
    "print(f'MAPE: {round(np.mean([x[1] for x in all_metrics]), 5)}')"
   ]
  },
  {
   "cell_type": "markdown",
   "metadata": {},
   "source": [
    "R2: 0.42683\n",
    "MAPE: 0.10619"
   ]
  },
  {
   "cell_type": "markdown",
   "metadata": {},
   "source": [
    "-----"
   ]
  },
  {
   "cell_type": "code",
   "execution_count": 13,
   "metadata": {},
   "outputs": [],
   "source": [
    "from catboost import CatBoostRegressor, Pool\n",
    "import pandas as pd\n",
    "from sklearn.model_selection import StratifiedKFold\n",
    "import matplotlib.pyplot as plt\n",
    "from sklearn import metrics\n",
    "import numpy as np\n",
    "import pickle\n",
    "\n",
    "pd.options.display.max_columns = 200"
   ]
  },
  {
   "cell_type": "code",
   "execution_count": 14,
   "metadata": {},
   "outputs": [
    {
     "data": {
      "text/plain": [
       "<catboost.core.CatBoostRegressor at 0x167093130>"
      ]
     },
     "execution_count": 14,
     "metadata": {},
     "output_type": "execute_result"
    }
   ],
   "source": [
    "model = CatBoostRegressor()\n",
    "model.load_model('info_model.cbm')"
   ]
  },
  {
   "cell_type": "code",
   "execution_count": 15,
   "metadata": {},
   "outputs": [
    {
     "name": "stderr",
     "output_type": "stream",
     "text": [
      "/var/folders/bb/jzxxldrn52l0stzqmszjx6840000gn/T/ipykernel_39042/2888774503.py:16: FutureWarning: Downcasting behavior in `replace` is deprecated and will be removed in a future version. To retain the old behavior, explicitly call `result.infer_objects(copy=False)`. To opt-in to the future behavior, set `pd.set_option('future.no_silent_downcasting', True)`\n",
      "  df['ТВ реклама, руб'] = df['ТВ реклама, руб'].replace(' ', 0).astype(float)\n"
     ]
    }
   ],
   "source": [
    "def read_file(path):\n",
    "    df = pd.read_excel(path)\n",
    "    df.columns = df.iloc[4]\n",
    "    df = df.iloc[5:][df.columns[:-1]]\n",
    "\n",
    "    columns = df.columns.tolist()\n",
    "\n",
    "    columns[3] = 'продажи'\n",
    "    columns[16] = 'заболеваемость'\n",
    "    columns[33] = 'ТВ реклама, руб'\n",
    "    columns[35] = 'интернет реклама, руб'\n",
    "    columns[51] = 'wordstat'\n",
    "    \n",
    "    df.columns = columns\n",
    "    df.loc[df['неделя']==53, 'неделя'] = 52\n",
    "    df['ТВ реклама, руб'] = df['ТВ реклама, руб'].replace(' ', 0).astype(float)\n",
    "\n",
    "    return df\n",
    "\n",
    "df = read_file('data/train.xlsx')\n",
    "df.loc[df['неделя']==53, 'неделя'] = 52"
   ]
  },
  {
   "cell_type": "code",
   "execution_count": 16,
   "metadata": {},
   "outputs": [],
   "source": [
    "def create_features(df):\n",
    "\n",
    "    week_info = df.groupby('неделя')['продажи'].agg(['sum', 'count'])\n",
    "    week_info.columns = [f'week_{x}' for x in week_info.columns]\n",
    "\n",
    "    df[f'target'] = df['продажи'] / df['продажи'].shift(1)\n",
    "\n",
    "    df['feature_illnesses'] = df['заболеваемость'].shift(1)\n",
    "\n",
    "    df['feature_last_5_wordstat'] = df['wordstat'].shift(1).rolling(window=5).mean()\n",
    "    df['feature_last_15_wordstat'] = df['wordstat'].shift(1).rolling(window=15).mean()\n",
    "\n",
    "    df['feature_last_5_adv'] = df['ТВ реклама, руб'].shift(1).rolling(window=5).mean()\n",
    "    df['feature_last_15_adv'] = df['ТВ реклама, руб'].shift(1).rolling(window=15).mean()\n",
    "\n",
    "    df['feature_last_5_internet_adv'] = df['интернет реклама, руб'].shift(1).rolling(window=5).mean()\n",
    "    df['feature_last_15_internet__adv'] = df['интернет реклама, руб'].shift(1).rolling(window=15).mean()\n",
    "\n",
    "    df['feature_week'] = df['неделя']\n",
    "\n",
    "    for i in range(1, 16, 4):\n",
    "        df[f'feature_month_diff_{i}'] = df['продажи'].shift(i) / df['продажи'].shift(i+4)\n",
    "\n",
    "    for i in [7, 13, 20]:\n",
    "        df[f'feature_big_diff_{i}_weeks'] = df['продажи'].shift(1) / df['продажи'].shift(i)\n",
    "\n",
    "    bad_cols = [col for col in df.columns if 'feature' not in col and 'target' not in col]\n",
    "    df.drop(bad_cols, axis=1, inplace=True)\n",
    "\n",
    "    feature_names = {'feature_illnesses': 'кол-во больных на последней неделе',\n",
    " 'feature_last_5_wordstat': 'среднее кол-во просмотров wordstat за 5 недель',\n",
    " 'feature_last_15_wordstat': 'среднее кол-во просмотров wordstat за 15 недель',\n",
    " 'feature_last_5_adv': 'средние затраты на тв рекламу последние 5 недель',\n",
    " 'feature_last_15_adv': 'средние затраты на тв рекламу последние 15 недель',\n",
    " 'feature_last_5_internet_adv': 'средние затраты на интернет рекламу последние 5 недель',\n",
    " 'feature_last_15_internet__adv': 'средние затраты на интернет рекламу последние 15 недель',\n",
    " 'feature_week': 'номер недели',\n",
    " 'feature_month_diff_1': 'изменение продаж месяц назад',\n",
    " 'feature_month_diff_5': 'изменение продаж 2 месяца назад',\n",
    " 'feature_month_diff_9': 'изменение продаж 3 месяца назад',\n",
    " 'feature_month_diff_13': 'изменение продаж 4 месяца назад',\n",
    " 'feature_big_diff_7_weeks': 'изменение продаж за последние 2 месяца',\n",
    " 'feature_big_diff_13_weeks': 'изменение продаж за последние 3 месяца',\n",
    " 'feature_big_diff_20_weeks': 'изменение продаж за последние 4 месяца'}\n",
    "    \n",
    "    df.rename(feature_names, axis=1, inplace=True)\n",
    "    \n",
    "    return df\n",
    "\n",
    "df = create_features(df)\n",
    "df = df.reset_index(drop=True)"
   ]
  },
  {
   "cell_type": "code",
   "execution_count": 17,
   "metadata": {},
   "outputs": [],
   "source": [
    "df = df[df['target'].notna()].dropna()"
   ]
  },
  {
   "cell_type": "code",
   "execution_count": 18,
   "metadata": {},
   "outputs": [
    {
     "data": {
      "text/plain": [
       "array([0.95205372, 1.00725394, 1.02685994, 1.03539017, 1.01890825,\n",
       "       1.03141576, 1.0100576 , 1.01934342, 1.0082939 , 1.01037523,\n",
       "       1.01873457, 1.03292876, 1.03092404, 1.03212255, 1.01367852,\n",
       "       1.00757551, 1.00680974, 0.99810615, 0.95648003, 0.98742892,\n",
       "       0.99153844, 0.97459671, 0.95801217, 0.9741478 , 0.98817747,\n",
       "       1.01568095, 1.00771577, 1.01445973, 1.00529094, 1.01499466,\n",
       "       1.00570978, 1.00831716, 0.99840064, 1.02788673, 1.02412729,\n",
       "       1.02903332, 1.02735591, 1.02703558, 0.973673  , 0.97397358,\n",
       "       0.98104099, 0.99852321, 0.99390521, 0.98192917, 0.87888061,\n",
       "       0.81337751, 0.77906171, 0.88323969, 0.87249378, 0.88473256,\n",
       "       0.89631455, 0.944136  , 0.95771854, 0.96942595, 0.97187184,\n",
       "       0.98314402, 1.00507284, 1.01543259, 1.02589705, 1.04721597,\n",
       "       1.0432216 , 1.03918052, 1.02773495, 1.02841886, 1.02628349,\n",
       "       1.03169467, 1.0294182 , 1.00317065, 1.00848211, 0.9999699 ,\n",
       "       0.96402048, 0.99144542, 0.99667582, 0.9958277 , 0.98896953,\n",
       "       0.98766796, 0.98785096, 0.99166859, 0.97823275, 0.99385267,\n",
       "       1.00160273, 1.00096488, 0.99488194, 0.98735484, 0.98292257,\n",
       "       0.98405015, 0.98037175, 0.9771348 , 0.97781531, 1.01664845,\n",
       "       1.01272583, 1.02166095, 1.02465072, 1.00866656, 1.00828143,\n",
       "       1.00830514, 1.00344541, 1.02854545, 1.02957481, 1.02778107,\n",
       "       1.02844443, 1.0053165 , 1.00100392, 0.99928914, 0.97780597,\n",
       "       0.98576611, 1.00420288, 1.02528828, 1.0066529 , 1.00535278,\n",
       "       1.00373398, 1.0022835 , 0.99874225, 1.00304891, 0.99892984,\n",
       "       1.00936487, 1.02262127, 1.0228907 , 1.01335045, 1.00265783,\n",
       "       1.00282411, 0.99263657, 0.97810896, 0.99031751, 0.99182294,\n",
       "       0.98490647, 0.98333011, 0.98116803, 0.97817611, 0.97957913,\n",
       "       0.96951813, 0.96410186, 0.97006234, 0.96828427, 0.97561347,\n",
       "       0.95898394, 0.95969804, 0.93436935, 0.96081358, 0.94345153,\n",
       "       0.97009334, 0.96465378, 0.93137453, 0.90564275, 0.9109445 ,\n",
       "       0.90916464, 0.91259503, 0.91131252, 0.91701254, 0.97824411,\n",
       "       0.97504643, 0.97558545, 0.93961177, 0.96954881, 0.97998973,\n",
       "       0.98059956, 0.99384228, 1.03537364, 1.03731587, 1.03826676,\n",
       "       1.03717639, 1.03310237, 1.03233331, 1.03154486, 1.02707596,\n",
       "       1.02626994, 1.00834964, 1.00389269, 1.02933392, 0.99670448,\n",
       "       1.0003732 , 0.99795126, 0.99762506, 0.98977815, 0.98453962,\n",
       "       0.98949297, 0.99441514, 0.97124689, 0.96114182, 0.96514901,\n",
       "       0.98458773, 0.994533  , 0.99790819, 0.99696062, 0.9926433 ,\n",
       "       0.99679677, 0.99626203, 0.98731599, 0.98588177, 1.00399913,\n",
       "       0.98033032, 1.00058367, 0.99057331, 1.00276911, 1.01497314,\n",
       "       0.99678552, 0.99864528, 0.99990153, 1.00026664, 0.97981677,\n",
       "       0.99976864, 1.00540042, 1.02211612, 1.03462215, 1.03254658,\n",
       "       1.0301927 , 1.00850742, 1.00861776, 1.00382203, 1.00521388,\n",
       "       1.01342583, 1.02802096, 1.02870677, 1.00543497, 1.02813474,\n",
       "       1.00681531, 1.01999247, 1.00827448, 1.00485095, 1.00540722,\n",
       "       1.02794391, 1.01133889, 1.01831055, 1.00359303])"
      ]
     },
     "execution_count": 18,
     "metadata": {},
     "output_type": "execute_result"
    }
   ],
   "source": [
    "model.predict(df[model.feature_names_])"
   ]
  },
  {
   "cell_type": "code",
   "execution_count": null,
   "metadata": {},
   "outputs": [],
   "source": []
  }
 ],
 "metadata": {
  "kernelspec": {
   "display_name": "venv_sales",
   "language": "python",
   "name": "python3"
  },
  "language_info": {
   "codemirror_mode": {
    "name": "ipython",
    "version": 3
   },
   "file_extension": ".py",
   "mimetype": "text/x-python",
   "name": "python",
   "nbconvert_exporter": "python",
   "pygments_lexer": "ipython3",
   "version": "3.10.14"
  }
 },
 "nbformat": 4,
 "nbformat_minor": 2
}
