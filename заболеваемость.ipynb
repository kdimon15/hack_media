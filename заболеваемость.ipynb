{
 "cells": [
  {
   "cell_type": "code",
   "execution_count": 1,
   "metadata": {},
   "outputs": [],
   "source": [
    "from catboost import CatBoostRegressor, Pool\n",
    "import pandas as pd\n",
    "from sklearn.model_selection import StratifiedKFold\n",
    "import matplotlib.pyplot as plt\n",
    "from sklearn import metrics\n",
    "import numpy as np\n",
    "\n",
    "pd.options.display.max_columns = 200"
   ]
  },
  {
   "cell_type": "code",
   "execution_count": 2,
   "metadata": {},
   "outputs": [],
   "source": [
    "def read_file(path):\n",
    "    df = pd.read_excel(path)\n",
    "    df.columns = df.iloc[4]\n",
    "    df = df.iloc[5:][df.columns[:-1]]\n",
    "\n",
    "    columns = df.columns.tolist()\n",
    "\n",
    "    columns[3] = 'продажи'\n",
    "    columns[16] = 'заболеваемость'\n",
    "    columns[33] = 'ТВ реклама, руб'\n",
    "    columns[35] = 'интернет реклама, руб'\n",
    "    columns[51] = 'wordstat'\n",
    "    \n",
    "    df.columns = columns\n",
    "    df.loc[df['неделя'] == 53, 'неделя'] = 52\n",
    "\n",
    "    return df\n",
    "\n",
    "df = read_file('data/train.xlsx')\n",
    "df.loc[df['неделя']==53, 'неделя'] = 52"
   ]
  },
  {
   "cell_type": "code",
   "execution_count": 3,
   "metadata": {},
   "outputs": [],
   "source": [
    "def create_features(cur_df):\n",
    "    df = cur_df.copy(deep=True)\n",
    "\n",
    "    week_info = df.groupby('неделя')['заболеваемость'].agg(['sum', 'count'])\n",
    "    week_info.columns = [f'week_{x}' for x in week_info.columns]\n",
    "\n",
    "    df = df.merge(week_info, how='left', right_index=True, left_on='неделя')\n",
    "    df['week_sum'] -= df['заболеваемость']\n",
    "    df['week_count'] -= 1\n",
    "    df['feature_mean_week'] = df['week_sum'] / df['week_count']\n",
    "    df['feature_mean_week_norm'] = df['feature_mean_week'] / df['заболеваемость']\n",
    "\n",
    "    df['feature_week'] = df['неделя']\n",
    "\n",
    "    # for i in range(1, 16, 4):\n",
    "    #     df[f'feature_month_diff_{i}'] = df['value'].shift(i) / df['value'].shift(i+4)\n",
    "\n",
    "    for i in range(28):\n",
    "        df[f'target_{i+1}'] = df['заболеваемость'].shift(-i) / df['заболеваемость'].shift(1)\n",
    "\n",
    "    for i in [7, 13, 20]:\n",
    "        df[f'feature_big_diff_{i}_weeks'] = df['заболеваемость'].shift(1) / df['заболеваемость'].shift(i)\n",
    "\n",
    "    bad_cols = [col for col in df.columns if 'feature' not in col and 'target' not in col]\n",
    "    df.drop(bad_cols, axis=1, inplace=True)\n",
    "    \n",
    "    return df\n",
    "\n",
    "df = create_features(df)\n",
    "# df = df.dropna().reset_index(drop=True)"
   ]
  },
  {
   "cell_type": "code",
   "execution_count": 4,
   "metadata": {},
   "outputs": [],
   "source": [
    "df = df[df['target_1'].notna()].reset_index(drop=True)\n",
    "df = df.loc[20:].reset_index(drop=True)"
   ]
  },
  {
   "cell_type": "code",
   "execution_count": 5,
   "metadata": {},
   "outputs": [],
   "source": [
    "df = df[df['target_28'].notna()]"
   ]
  },
  {
   "cell_type": "code",
   "execution_count": 6,
   "metadata": {},
   "outputs": [],
   "source": [
    "test_size = 0.3\n",
    "\n",
    "train_data, valid_data = df[:int(len(df) * (1-test_size))], df[int(len(df) * (1-test_size)):]"
   ]
  },
  {
   "cell_type": "code",
   "execution_count": 10,
   "metadata": {},
   "outputs": [
    {
     "name": "stdout",
     "output_type": "stream",
     "text": [
      "Предсказываение на 1 недель вперед\n",
      "R2: 0.18294\n",
      "MAPE: 0.13505\n",
      "\n",
      "Предсказываение на 2 недель вперед\n",
      "R2: 0.33437\n",
      "MAPE: 0.20586\n",
      "\n",
      "Предсказываение на 3 недель вперед\n",
      "R2: 0.28502\n",
      "MAPE: 0.25115\n",
      "\n",
      "Предсказываение на 4 недель вперед\n",
      "R2: 0.27566\n",
      "MAPE: 0.29125\n",
      "\n",
      "Предсказываение на 5 недель вперед\n",
      "R2: 0.45823\n",
      "MAPE: 0.29874\n",
      "\n",
      "Предсказываение на 6 недель вперед\n",
      "R2: 0.50399\n",
      "MAPE: 0.34145\n",
      "\n",
      "Предсказываение на 7 недель вперед\n",
      "R2: 0.54974\n",
      "MAPE: 0.31575\n",
      "\n",
      "Предсказываение на 8 недель вперед\n",
      "R2: 0.53422\n",
      "MAPE: 0.32853\n",
      "\n",
      "Предсказываение на 9 недель вперед\n",
      "R2: 0.58005\n",
      "MAPE: 0.27497\n",
      "\n",
      "Предсказываение на 10 недель вперед\n",
      "R2: 0.69682\n",
      "MAPE: 0.23989\n",
      "\n",
      "Предсказываение на 11 недель вперед\n",
      "R2: 0.78578\n",
      "MAPE: 0.19106\n",
      "\n",
      "Предсказываение на 12 недель вперед\n",
      "R2: 0.7973\n",
      "MAPE: 0.20644\n",
      "\n",
      "Предсказываение на 13 недель вперед\n",
      "R2: 0.88814\n",
      "MAPE: 0.19504\n",
      "\n",
      "Предсказываение на 14 недель вперед\n",
      "R2: 0.87522\n",
      "MAPE: 0.20884\n",
      "\n",
      "Предсказываение на 15 недель вперед\n",
      "R2: 0.86949\n",
      "MAPE: 0.20362\n",
      "\n",
      "Предсказываение на 16 недель вперед\n",
      "R2: 0.84885\n",
      "MAPE: 0.21776\n",
      "\n",
      "Предсказываение на 17 недель вперед\n",
      "R2: 0.78727\n",
      "MAPE: 0.24585\n",
      "\n",
      "Предсказываение на 18 недель вперед\n",
      "R2: 0.74214\n",
      "MAPE: 0.33114\n",
      "\n",
      "Предсказываение на 19 недель вперед\n",
      "R2: 0.70396\n",
      "MAPE: 0.32324\n",
      "\n",
      "Предсказываение на 20 недель вперед\n",
      "R2: 0.67208\n",
      "MAPE: 0.30496\n",
      "\n",
      "Предсказываение на 21 недель вперед\n",
      "R2: 0.60672\n",
      "MAPE: 0.38535\n",
      "\n",
      "Предсказываение на 22 недель вперед\n",
      "R2: 0.59642\n",
      "MAPE: 0.40057\n",
      "\n",
      "Предсказываение на 23 недель вперед\n",
      "R2: 0.57669\n",
      "MAPE: 0.36653\n",
      "\n",
      "Предсказываение на 24 недель вперед\n",
      "R2: 0.64989\n",
      "MAPE: 0.34613\n",
      "\n",
      "Предсказываение на 25 недель вперед\n",
      "R2: 0.65353\n",
      "MAPE: 0.42847\n",
      "\n",
      "Предсказываение на 26 недель вперед\n",
      "R2: 0.66397\n",
      "MAPE: 0.44361\n",
      "\n",
      "Предсказываение на 27 недель вперед\n",
      "R2: 0.71724\n",
      "MAPE: 0.47124\n",
      "\n",
      "Предсказываение на 28 недель вперед\n",
      "R2: 0.74116\n",
      "MAPE: 0.48799\n",
      "\n"
     ]
    }
   ],
   "source": [
    "all_models = []\n",
    "all_metrics = []\n",
    "all_preds = []\n",
    "for i in range(1, 29):\n",
    "    print(f'Предсказываение на {i} недель вперед')\n",
    "\n",
    "    X_train, y_train = train_data.drop([x for x in train_data.columns if 'target' in x], axis=1), train_data[f'target_{i}']\n",
    "    X_valid, y_valid = valid_data.drop([x for x in valid_data.columns if 'target' in x], axis=1), valid_data[f'target_{i}']\n",
    "\n",
    "    model = CatBoostRegressor(\n",
    "        depth=2,\n",
    "        learning_rate=0.03,\n",
    "        iterations=3000,\n",
    "        loss_function='MAPE',\n",
    "        eval_metric='MAPE',\n",
    "        custom_metric=['R2'],\n",
    "\n",
    "        random_state=42,\n",
    "        thread_count=4\n",
    "    )\n",
    "\n",
    "    model.fit(X_train, y_train, eval_set=(X_valid, y_valid), verbose=False)\n",
    "    all_models.append(model)\n",
    "\n",
    "    preds = model.predict(X_valid)\n",
    "    all_preds.append(preds)\n",
    "\n",
    "    r2_metric = metrics.r2_score(y_valid, preds)\n",
    "    mape_metric = metrics.mean_absolute_percentage_error(y_valid, preds)\n",
    "    all_metrics.append([r2_metric, mape_metric])\n",
    "\n",
    "    print(f'R2: {round(r2_metric, 5)}')\n",
    "    print(f'MAPE: {round(mape_metric, 5)}')\n",
    "    \n",
    "    print()"
   ]
  },
  {
   "cell_type": "code",
   "execution_count": 15,
   "metadata": {},
   "outputs": [
    {
     "data": {
      "text/html": [
       "<div>\n",
       "<style scoped>\n",
       "    .dataframe tbody tr th:only-of-type {\n",
       "        vertical-align: middle;\n",
       "    }\n",
       "\n",
       "    .dataframe tbody tr th {\n",
       "        vertical-align: top;\n",
       "    }\n",
       "\n",
       "    .dataframe thead th {\n",
       "        text-align: right;\n",
       "    }\n",
       "</style>\n",
       "<table border=\"1\" class=\"dataframe\">\n",
       "  <thead>\n",
       "    <tr style=\"text-align: right;\">\n",
       "      <th></th>\n",
       "      <th>name</th>\n",
       "      <th>imp</th>\n",
       "    </tr>\n",
       "  </thead>\n",
       "  <tbody>\n",
       "    <tr>\n",
       "      <th>2</th>\n",
       "      <td>feature_week</td>\n",
       "      <td>41.925796</td>\n",
       "    </tr>\n",
       "    <tr>\n",
       "      <th>5</th>\n",
       "      <td>feature_big_diff_20_weeks</td>\n",
       "      <td>21.535299</td>\n",
       "    </tr>\n",
       "    <tr>\n",
       "      <th>0</th>\n",
       "      <td>feature_mean_week</td>\n",
       "      <td>14.605232</td>\n",
       "    </tr>\n",
       "    <tr>\n",
       "      <th>3</th>\n",
       "      <td>feature_big_diff_7_weeks</td>\n",
       "      <td>8.929691</td>\n",
       "    </tr>\n",
       "    <tr>\n",
       "      <th>1</th>\n",
       "      <td>feature_mean_week_norm</td>\n",
       "      <td>8.031141</td>\n",
       "    </tr>\n",
       "    <tr>\n",
       "      <th>4</th>\n",
       "      <td>feature_big_diff_13_weeks</td>\n",
       "      <td>4.972841</td>\n",
       "    </tr>\n",
       "  </tbody>\n",
       "</table>\n",
       "</div>"
      ],
      "text/plain": [
       "                        name        imp\n",
       "2               feature_week  41.925796\n",
       "5  feature_big_diff_20_weeks  21.535299\n",
       "0          feature_mean_week  14.605232\n",
       "3   feature_big_diff_7_weeks   8.929691\n",
       "1     feature_mean_week_norm   8.031141\n",
       "4  feature_big_diff_13_weeks   4.972841"
      ]
     },
     "execution_count": 15,
     "metadata": {},
     "output_type": "execute_result"
    }
   ],
   "source": [
    "pd.DataFrame({\n",
    "    'name': X_train.columns,\n",
    "    'imp': all_models[0].get_feature_importance()\n",
    "}).sort_values('imp', ascending=False)"
   ]
  },
  {
   "cell_type": "code",
   "execution_count": 12,
   "metadata": {},
   "outputs": [
    {
     "name": "stdout",
     "output_type": "stream",
     "text": [
      "R2: 0.62775\n",
      "MAPE: 0.30145\n"
     ]
    }
   ],
   "source": [
    "print(f'R2: {round(np.mean([x[0] for x in all_metrics]), 5)}')\n",
    "print(f'MAPE: {round(np.mean([x[1] for x in all_metrics]), 5)}')"
   ]
  },
  {
   "cell_type": "code",
   "execution_count": 14,
   "metadata": {},
   "outputs": [
    {
     "data": {
      "text/plain": [
       "[<matplotlib.lines.Line2D at 0x16cbee230>]"
      ]
     },
     "execution_count": 14,
     "metadata": {},
     "output_type": "execute_result"
    },
    {
     "data": {
      "image/png": "[encoded data removed]",
      "text/plain": [
       "<Figure size 640x480 with 1 Axes>"
      ]
     },
     "metadata": {},
     "output_type": "display_data"
    }
   ],
   "source": [
    "idx = 54\n",
    "\n",
    "preds = [all_models[i].predict(X_valid)[idx] for i in range(28)]\n",
    "\n",
    "plt.plot([valid_data.iloc[idx][f'target_{i}'] for i in range(1, 29)])\n",
    "plt.plot(preds)"
   ]
  },
  {
   "cell_type": "code",
   "execution_count": null,
   "metadata": {},
   "outputs": [],
   "source": []
  }
 ],
 "metadata": {
  "kernelspec": {
   "display_name": "venv_sales",
   "language": "python",
   "name": "python3"
  },
  "language_info": {
   "codemirror_mode": {
    "name": "ipython",
    "version": 3
   },
   "file_extension": ".py",
   "mimetype": "text/x-python",
   "name": "python",
   "nbconvert_exporter": "python",
   "pygments_lexer": "ipython3",
   "version": "3.10.14"
  }
 },
 "nbformat": 4,
 "nbformat_minor": 2
}
